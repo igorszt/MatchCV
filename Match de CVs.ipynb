{
 "cells": [
  {
   "cell_type": "markdown",
   "metadata": {
    "id": "N6GJ1yXaI7LY"
   },
   "source": [
    "# **DATA SCIENCE PARA MATCH DE CURRÍCULOS COM VAGAS DE EMPREGO**"
   ]
  },
  {
   "cell_type": "markdown",
   "metadata": {
    "id": "Q9ZJR1jYpUY_"
   },
   "source": [
    "---\n",
    "## **Importação dos CVs**"
   ]
  },
  {
   "cell_type": "code",
   "execution_count": null,
   "metadata": {
    "colab": {
     "base_uri": "https://localhost:8080/"
    },
    "executionInfo": {
     "elapsed": 11055,
     "status": "ok",
     "timestamp": 1625006538644,
     "user": {
      "displayName": "Juliana Scudilio",
      "photoUrl": "",
      "userId": "13334520651508847277"
     },
     "user_tz": 180
    },
    "id": "LBaW5ldwzUCe",
    "outputId": "2d564098-1ed5-4d38-e106-08f1256de052"
   },
   "outputs": [],
   "source": [
    "#instalando pacotes necessários\n",
    "!pip install pdfplumber\n",
    "import pdfplumber\n",
    "import nltk  \n",
    "import matplotlib.pyplot as plt\n",
    "from wordcloud import WordCloud"
   ]
  },
  {
   "cell_type": "code",
   "execution_count": null,
   "metadata": {
    "colab": {
     "base_uri": "https://localhost:8080/",
     "height": 137
    },
    "executionInfo": {
     "elapsed": 610,
     "status": "ok",
     "timestamp": 1625006542640,
     "user": {
      "displayName": "Juliana Scudilio",
      "photoUrl": "",
      "userId": "13334520651508847277"
     },
     "user_tz": 180
    },
    "id": "PnT849l90STJ",
    "outputId": "aa522f60-26f8-4826-b1fb-f5e197974fe5"
   },
   "outputs": [],
   "source": [
    "#ler o curriculo\n",
    "arquivoPDF = pdfplumber.open('Igor.pdf')"
   ]
  },
  {
   "cell_type": "code",
   "execution_count": null,
   "metadata": {
    "colab": {
     "base_uri": "https://localhost:8080/"
    },
    "executionInfo": {
     "elapsed": 234,
     "status": "ok",
     "timestamp": 1625006569258,
     "user": {
      "displayName": "Juliana Scudilio",
      "photoUrl": "",
      "userId": "13334520651508847277"
     },
     "user_tz": 180
    },
    "id": "tJ7BG_RU1HPN",
    "outputId": "b7f8a217-24cf-47f9-d0e6-f6c575bf3902"
   },
   "outputs": [],
   "source": [
    "#apresentar os metadados do currículo\n",
    "arquivoPDF.metadata"
   ]
  },
  {
   "cell_type": "code",
   "execution_count": null,
   "metadata": {
    "colab": {
     "base_uri": "https://localhost:8080/"
    },
    "executionInfo": {
     "elapsed": 243,
     "status": "ok",
     "timestamp": 1625006573498,
     "user": {
      "displayName": "Juliana Scudilio",
      "photoUrl": "",
      "userId": "13334520651508847277"
     },
     "user_tz": 180
    },
    "id": "ZFvIXf-B0737",
    "outputId": "20e8cf41-9b61-419d-dd0c-1ee8abfd159f"
   },
   "outputs": [],
   "source": [
    "#apresentar os hyperlinks existentes no currículo\n",
    "arquivoPDF.hyperlinks"
   ]
  },
  {
   "cell_type": "code",
   "execution_count": null,
   "metadata": {
    "colab": {
     "base_uri": "https://localhost:8080/"
    },
    "executionInfo": {
     "elapsed": 4,
     "status": "ok",
     "timestamp": 1625006578674,
     "user": {
      "displayName": "Juliana Scudilio",
      "photoUrl": "",
      "userId": "13334520651508847277"
     },
     "user_tz": 180
    },
    "id": "U_8iKnbAcGeG",
    "outputId": "071e7008-c64c-44ad-b870-9c6afb20cd81"
   },
   "outputs": [],
   "source": [
    "print(textoCRU)"
   ]
  },
  {
   "cell_type": "markdown",
   "metadata": {
    "id": "N8uUpKAwUWEB"
   },
   "source": [
    "---\n",
    "## **Pré-processamento de Texto**"
   ]
  },
  {
   "cell_type": "code",
   "execution_count": null,
   "metadata": {
    "colab": {
     "base_uri": "https://localhost:8080/"
    },
    "executionInfo": {
     "elapsed": 1176,
     "status": "ok",
     "timestamp": 1625006595510,
     "user": {
      "displayName": "Juliana Scudilio",
      "photoUrl": "",
      "userId": "13334520651508847277"
     },
     "user_tz": 180
    },
    "id": "Zzely9QS6nL4",
    "outputId": "0373465a-75b9-462a-fcdf-69173915ea64"
   },
   "outputs": [],
   "source": [
    "# A função word_tokenize() quebra o texto em palavras individuais.\n",
    "nltk.download('punkt')\n",
    "lista_de_palavras = nltk.tokenize.word_tokenize(textoCRU)\n",
    "lista_de_palavras"
   ]
  },
  {
   "cell_type": "code",
   "execution_count": null,
   "metadata": {
    "colab": {
     "base_uri": "https://localhost:8080/"
    },
    "executionInfo": {
     "elapsed": 378,
     "status": "ok",
     "timestamp": 1625006600808,
     "user": {
      "displayName": "Juliana Scudilio",
      "photoUrl": "",
      "userId": "13334520651508847277"
     },
     "user_tz": 180
    },
    "id": "1FJ4Ws2jcOEQ",
    "outputId": "db22ca90-6853-471a-a212-6c785c8642a8"
   },
   "outputs": [],
   "source": [
    "# Padronizando as palavras em lowercase (apenas letras minúsculas)\n",
    "lista_de_palavras = [palavra.lower() for palavra in lista_de_palavras]\n",
    "lista_de_palavras"
   ]
  },
  {
   "cell_type": "code",
   "execution_count": null,
   "metadata": {
    "executionInfo": {
     "elapsed": 246,
     "status": "ok",
     "timestamp": 1625006605527,
     "user": {
      "displayName": "Juliana Scudilio",
      "photoUrl": "",
      "userId": "13334520651508847277"
     },
     "user_tz": 180
    },
    "id": "erwEQnjbwkgH"
   },
   "outputs": [],
   "source": [
    "#Criando uma lista que contém pontuação que desejamos remover\n",
    "pontuacao = ['(',')',';',':','[',']',',']"
   ]
  },
  {
   "cell_type": "code",
   "execution_count": null,
   "metadata": {
    "colab": {
     "base_uri": "https://localhost:8080/"
    },
    "executionInfo": {
     "elapsed": 255,
     "status": "ok",
     "timestamp": 1625006615203,
     "user": {
      "displayName": "Juliana Scudilio",
      "photoUrl": "",
      "userId": "13334520651508847277"
     },
     "user_tz": 180
    },
    "id": "hsPWwaJ5L3-9",
    "outputId": "2bfdbbf3-b0e1-4b40-c32d-19de467e679e"
   },
   "outputs": [],
   "source": [
    "#Criando uma lista de stop words \"a\", \"de\", \"um\"que não tem valor como palavra\n",
    "nltk.download('stopwords')\n",
    "stop_words = nltk.corpus.stopwords.words('portuguese')\n",
    "stop_words"
   ]
  },
  {
   "cell_type": "code",
   "execution_count": null,
   "metadata": {
    "colab": {
     "base_uri": "https://localhost:8080/"
    },
    "executionInfo": {
     "elapsed": 234,
     "status": "ok",
     "timestamp": 1625006631811,
     "user": {
      "displayName": "Juliana Scudilio",
      "photoUrl": "",
      "userId": "13334520651508847277"
     },
     "user_tz": 180
    },
    "id": "zu4cBKFkMKqV",
    "outputId": "16b05cdc-26a8-4566-cad1-35117418257d"
   },
   "outputs": [],
   "source": [
    "#criando uma lista de palavra sem stopword e pontuações\n",
    "keywords = [palavra for palavra in lista_de_palavras if not palavra in stop_words and not palavra in pontuacao]\n",
    "keywords"
   ]
  },
  {
   "cell_type": "code",
   "execution_count": null,
   "metadata": {
    "colab": {
     "base_uri": "https://localhost:8080/"
    },
    "executionInfo": {
     "elapsed": 237,
     "status": "ok",
     "timestamp": 1625006639067,
     "user": {
      "displayName": "Juliana Scudilio",
      "photoUrl": "",
      "userId": "13334520651508847277"
     },
     "user_tz": 180
    },
    "id": "vJmLqtRBKlQu",
    "outputId": "84674c34-bea2-4f6e-e58d-74c3e374b779"
   },
   "outputs": [],
   "source": [
    "#numero de palavras das reviews\n",
    "len(keywords)"
   ]
  },
  {
   "cell_type": "code",
   "execution_count": null,
   "metadata": {
    "colab": {
     "base_uri": "https://localhost:8080/",
     "height": 137
    },
    "executionInfo": {
     "elapsed": 356,
     "status": "ok",
     "timestamp": 1625006641825,
     "user": {
      "displayName": "Juliana Scudilio",
      "photoUrl": "",
      "userId": "13334520651508847277"
     },
     "user_tz": 180
    },
    "id": "eR5t648g_-aV",
    "outputId": "f740cbf8-5efa-4cd2-e713-44e3e2265af6"
   },
   "outputs": [],
   "source": [
    "# concatenar as palavras\n",
    "textocv = \" \".join(s for s in keywords)\n",
    "textocv"
   ]
  },
  {
   "cell_type": "markdown",
   "metadata": {
    "id": "E0ZgqlGMUVAx"
   },
   "source": [
    "---\n",
    "## **WordCloud - Nuvem de Palavras**"
   ]
  },
  {
   "cell_type": "code",
   "execution_count": null,
   "metadata": {
    "colab": {
     "base_uri": "https://localhost:8080/",
     "height": 520
    },
    "executionInfo": {
     "elapsed": 4040,
     "status": "ok",
     "timestamp": 1625006659390,
     "user": {
      "displayName": "Juliana Scudilio",
      "photoUrl": "",
      "userId": "13334520651508847277"
     },
     "user_tz": 180
    },
    "id": "cSxnIT-o-2TC",
    "outputId": "c76db168-ef55-473d-998e-c917e708b545"
   },
   "outputs": [],
   "source": [
    "# gerar uma wordcloud\n",
    "from wordcloud import WordCloud\n",
    "\n",
    "wordcloud = WordCloud(background_color = '#0f54c9', \n",
    "                      max_font_size = 150, \n",
    "                      width = 1280, \n",
    "                      height = 720, \n",
    "                      colormap= 'Blues').generate(textocv) \n",
    "\n",
    "#mostrar a imagem final\n",
    "import matplotlib.pyplot as plt\n",
    "fig, ax = plt.subplots(figsize=(16, 9))\n",
    "ax.imshow(wordcloud)\n",
    "ax.set_axis_off()\n",
    "plt.imshow(wordcloud)\n",
    "wordcloud.to_file(\"wordcloud.png\")\n",
    "plt.show()"
   ]
  },
  {
   "cell_type": "code",
   "execution_count": null,
   "metadata": {
    "id": "g22-HpfB7VES"
   },
   "outputs": [],
   "source": [
    "\n",
    "from wordcloud import WordCloud\n",
    "\n",
    "#funcao para gerar a wordcloud\n",
    "def NuvemDePalavras(cv, salvar = True):\n",
    "    '''\n",
    "    cv: caminho de um arquivo PDF \n",
    "    '''\n",
    "    arquivoPDF = pdfplumber.open(cv)\n",
    "    primeira_pagina = arquivoPDF.pages[0]  #lê apenas a primeira página\n",
    "    textoCRU = primeira_pagina.extract_text()\n",
    "\n",
    "    lista_de_palavras = nltk.tokenize.word_tokenize(textoCRU)  # transforma o texto cru em uma lista de termos\n",
    "    lista_de_palavras = [palavra.lower() for palavra in lista_de_palavras]  # deixando tudo minusculo\n",
    "\n",
    "    keywords = [palavra for palavra in lista_de_palavras if not palavra in stop_words and not palavra in pontuacao]  # tira as pontuacoes e stopwords \n",
    "    textocv = \" \".join(s for s in keywords)  # junta tudo em um texto só novamente. \n",
    "\n",
    "\n",
    "    wordcloud = WordCloud(background_color = '#0f54c9', \n",
    "                          max_font_size = 150, \n",
    "                          width = 1280, \n",
    "                          height = 720, \n",
    "                          colormap= 'Blues').generate(textocv) \n",
    " \n",
    "    # mostrar a imagem final\n",
    "    fig, ax = plt.subplots(figsize=(16, 9))\n",
    "    ax.imshow(wordcloud)\n",
    "    ax.set_axis_off()\n",
    "    plt.imshow(wordcloud)\n",
    "\n",
    "    if salvar:\n",
    "        wordcloud.to_file(\"wordcloud.png\")\n",
    "\n",
    "    plt.show()\n"
   ]
  },
  {
   "cell_type": "code",
   "execution_count": null,
   "metadata": {
    "colab": {
     "base_uri": "https://localhost:8080/",
     "height": 520
    },
    "executionInfo": {
     "elapsed": 4044,
     "status": "ok",
     "timestamp": 1625001844662,
     "user": {
      "displayName": "Ricardo Rocha",
      "photoUrl": "",
      "userId": "04569133764622896806"
     },
     "user_tz": 180
    },
    "id": "x494UeeJqBkd",
    "outputId": "b0a75d54-cb7c-42d2-d85a-2beeba015424"
   },
   "outputs": [],
   "source": [
    "NuvemDePalavras('Igor.pdf')"
   ]
  },
  {
   "cell_type": "markdown",
   "metadata": {
    "id": "vRAuc-BQUU5R"
   },
   "source": [
    "---\n",
    "## **Entrada das Vagas de Emprego**"
   ]
  },
  {
   "cell_type": "markdown",
   "metadata": {
    "id": "L7U3nWVi8cRR"
   },
   "source": [
    "- **Vaga 1 - DS Senior:** https://www.linkedin.com/jobs/view/2592718801/?alternateChannel=search&refId=HcViZqV2vjZAXA0OvOZrjQ%3D%3D&trackingId=6n427gmxJ%2BH5bnRHI0T5Lg%3D%3D\n",
    "- **Vaga 2 - DS Junior:** https://www.linkedin.com/jobs/view/2621616275/?alternateChannel=search&refId=I4M3V3mzbgz5oU5EfgwJxw%3D%3D&trackingId=4gDNWcSbeeVhAr15Vs2kaA%3D%3D\n",
    "- **Vaga 3 - Engenheiro de Dados:** https://www.linkedin.com/jobs/view/2596248068/?alternateChannel=search&refId=sI8VCh%2FcadPug6NsBop4sA%3D%3D&trackingId=uMjFL1VlttYcK4XiXkcToA%3D%3D \n",
    "- **Vaga 4 - Marketing:**  https://www.linkedin.com/jobs/view/2601831935/?alternateChannel=search&refId=J6jCHp9UlXvGcv2qAD132w%3D%3D&trackingId=cZ4J1BVrDvBhutTRklbPPw%3D%3D"
   ]
  },
  {
   "cell_type": "code",
   "execution_count": null,
   "metadata": {
    "executionInfo": {
     "elapsed": 272,
     "status": "ok",
     "timestamp": 1625006848534,
     "user": {
      "displayName": "Juliana Scudilio",
      "photoUrl": "",
      "userId": "13334520651508847277"
     },
     "user_tz": 180
    },
    "id": "1fxH9nE_vtV1"
   },
   "outputs": [],
   "source": [
    "#ler as palavras chaves do emprego e seus respectivos pesos\n",
    "import pandas as pd\n",
    "\n",
    "vagas = pd.read_excel('vagas.xlsx', sheet_name = None)"
   ]
  },
  {
   "cell_type": "code",
   "execution_count": null,
   "metadata": {
    "executionInfo": {
     "elapsed": 3,
     "status": "ok",
     "timestamp": 1625006849667,
     "user": {
      "displayName": "Juliana Scudilio",
      "photoUrl": "",
      "userId": "13334520651508847277"
     },
     "user_tz": 180
    },
    "id": "RiJvnMl2wdWC"
   },
   "outputs": [],
   "source": [
    "n_vagas = len(vagas.keys())\n",
    "nome_vagas = list(vagas.keys())"
   ]
  },
  {
   "cell_type": "code",
   "execution_count": null,
   "metadata": {
    "executionInfo": {
     "elapsed": 3,
     "status": "ok",
     "timestamp": 1625006851103,
     "user": {
      "displayName": "Juliana Scudilio",
      "photoUrl": "",
      "userId": "13334520651508847277"
     },
     "user_tz": 180
    },
    "id": "mzN7alnK1L7g"
   },
   "outputs": [],
   "source": [
    "# transformando a saida numa lista de dataframes (cada dataframe representa uma vaga)\n",
    "vagas = [vagas[nome_vagas[i]] for i in range(n_vagas)]"
   ]
  },
  {
   "cell_type": "code",
   "execution_count": null,
   "metadata": {
    "colab": {
     "base_uri": "https://localhost:8080/",
     "height": 254
    },
    "executionInfo": {
     "elapsed": 253,
     "status": "ok",
     "timestamp": 1625006853399,
     "user": {
      "displayName": "Juliana Scudilio",
      "photoUrl": "",
      "userId": "13334520651508847277"
     },
     "user_tz": 180
    },
    "id": "Os_qrLMKv2MV",
    "outputId": "630e9399-f03f-43e5-cfaa-dcafc68d4732"
   },
   "outputs": [],
   "source": [
    "vagas[0]"
   ]
  },
  {
   "cell_type": "code",
   "execution_count": null,
   "metadata": {
    "colab": {
     "base_uri": "https://localhost:8080/",
     "height": 254
    },
    "executionInfo": {
     "elapsed": 245,
     "status": "ok",
     "timestamp": 1625006879849,
     "user": {
      "displayName": "Juliana Scudilio",
      "photoUrl": "",
      "userId": "13334520651508847277"
     },
     "user_tz": 180
    },
    "id": "YfVk9n2yyjkH",
    "outputId": "6b467d32-86da-438d-907c-858b09aeab7a"
   },
   "outputs": [],
   "source": [
    "vaga1 = vagas[0]\n",
    "vaga1"
   ]
  },
  {
   "cell_type": "code",
   "execution_count": null,
   "metadata": {
    "colab": {
     "base_uri": "https://localhost:8080/"
    },
    "executionInfo": {
     "elapsed": 239,
     "status": "ok",
     "timestamp": 1625006885028,
     "user": {
      "displayName": "Juliana Scudilio",
      "photoUrl": "",
      "userId": "13334520651508847277"
     },
     "user_tz": 180
    },
    "id": "TY_6y1yZzEzT",
    "outputId": "2ea22a0f-5179-403a-a0a9-73680c64252e"
   },
   "outputs": [],
   "source": [
    "palavras_chaves = list(vaga1['palavras-chave'])\n",
    "palavras_chaves"
   ]
  },
  {
   "cell_type": "code",
   "execution_count": null,
   "metadata": {
    "colab": {
     "base_uri": "https://localhost:8080/"
    },
    "executionInfo": {
     "elapsed": 242,
     "status": "ok",
     "timestamp": 1625006894921,
     "user": {
      "displayName": "Juliana Scudilio",
      "photoUrl": "",
      "userId": "13334520651508847277"
     },
     "user_tz": 180
    },
    "id": "iagUTIRzrWGX",
    "outputId": "b5c19dd2-1c0a-46ab-e73c-3bf66e196362"
   },
   "outputs": [],
   "source": [
    "# Clear Sale Data Science Analytics Senior\n",
    "import numpy as np\n",
    "\n",
    "limite = 5\n",
    "  \n",
    "pesos = list(vaga1['pesos'])\n",
    "palavras_chaves = list(vaga1['palavras-chave'])\n",
    "pmax = np.sum(np.array(pesos) * limite)\n",
    "print(pmax) "
   ]
  },
  {
   "cell_type": "code",
   "execution_count": null,
   "metadata": {
    "colab": {
     "base_uri": "https://localhost:8080/"
    },
    "executionInfo": {
     "elapsed": 246,
     "status": "ok",
     "timestamp": 1625006920132,
     "user": {
      "displayName": "Juliana Scudilio",
      "photoUrl": "",
      "userId": "13334520651508847277"
     },
     "user_tz": 180
    },
    "id": "DdfTl5LJs4HM",
    "outputId": "30daa6fb-60c4-46f0-eac2-54d835960a3d"
   },
   "outputs": [],
   "source": [
    "# contando as palavras chaves que ocorrem no CV\n",
    "\n",
    "cont = [textocv.count(pc) for pc in palavras_chaves]\n",
    "cont"
   ]
  },
  {
   "cell_type": "code",
   "execution_count": null,
   "metadata": {
    "colab": {
     "base_uri": "https://localhost:8080/"
    },
    "executionInfo": {
     "elapsed": 236,
     "status": "ok",
     "timestamp": 1625006932249,
     "user": {
      "displayName": "Juliana Scudilio",
      "photoUrl": "",
      "userId": "13334520651508847277"
     },
     "user_tz": 180
    },
    "id": "HzIcE-8MvNjx",
    "outputId": "2a950f2e-840d-4410-bca3-963c71eabd22"
   },
   "outputs": [],
   "source": [
    "# limitar pelo threshold\n",
    "def aux(x):\n",
    "    return x if x <= limite else limite\n",
    "\n",
    "cont = [aux(i) for i in cont]\n",
    "cont"
   ]
  },
  {
   "cell_type": "code",
   "execution_count": null,
   "metadata": {
    "colab": {
     "base_uri": "https://localhost:8080/"
    },
    "executionInfo": {
     "elapsed": 223,
     "status": "ok",
     "timestamp": 1625004824990,
     "user": {
      "displayName": "Ricardo Rocha",
      "photoUrl": "",
      "userId": "04569133764622896806"
     },
     "user_tz": 180
    },
    "id": "wzJH4FYGxJys",
    "outputId": "4a50142c-bf70-442f-a34f-895f451cb4a0"
   },
   "outputs": [],
   "source": [
    "#score do currículo com a vaga\n",
    "score = ((np.array(cont) * pesos).sum()/pmax).round(4)\n",
    "score"
   ]
  },
  {
   "cell_type": "markdown",
   "metadata": {
    "id": "qnhtvZnPUU0i"
   },
   "source": [
    "---\n",
    "## **Match dos CVs com as Vagas**"
   ]
  },
  {
   "cell_type": "code",
   "execution_count": null,
   "metadata": {
    "executionInfo": {
     "elapsed": 233,
     "status": "ok",
     "timestamp": 1625007021647,
     "user": {
      "displayName": "Juliana Scudilio",
      "photoUrl": "",
      "userId": "13334520651508847277"
     },
     "user_tz": 180
    },
    "id": "Zq87FYpq0Psq"
   },
   "outputs": [],
   "source": [
    "# função entrada: CV saida, vaga - saida: score\n",
    "\n",
    "pontuacao = ['(', ')', ';', ':', '[', ']', ',']\n",
    "stop_words = nltk.corpus.stopwords.words('portuguese')\n",
    "\n",
    "def MatchCV(cv, vaga, limite = 5):\n",
    "    '''\n",
    "    cv: caminho de um arquivo PDF\n",
    "    vaga: dataset de palavras-chave e pesos\n",
    "    '''\n",
    "\n",
    "    arquivoPDF = pdfplumber.open(cv)\n",
    "    primeira_pagina = arquivoPDF.pages[0]  #lê apenas a primeira página\n",
    "    textoCRU = primeira_pagina.extract_text()\n",
    "\n",
    "    lista_de_palavras = nltk.tokenize.word_tokenize(textoCRU)  # transforma o texto cru em uma lista de termos\n",
    "    lista_de_palavras = [palavra.lower() for palavra in lista_de_palavras]  # deixando tudo minusculo\n",
    "\n",
    "    keywords = [palavra for palavra in lista_de_palavras if not palavra in stop_words and not palavra in pontuacao]  # tira as pontuacoes e stopwords \n",
    "    textocv = \" \".join(s for s in keywords)  # junta tudo em um texto só novamente. \n",
    "\n",
    "    pesos = list(vaga['pesos'])\n",
    "    palavras_chaves = list(vaga['palavras-chave'])\n",
    "\n",
    "    cont = [textocv.count(pc) for pc in palavras_chaves]  # conta quantas vezes cada termo da vaga aparece no texto do cv\n",
    "\n",
    "    def aux(x, limite):\n",
    "        return x if x <= limite else limite\n",
    "\n",
    "    cont = [aux(i, limite) for i in cont]   # coloca o limite na contagem de palavras\n",
    "\n",
    "    pmax = np.sum(np.array(pesos) * limite) \n",
    "\n",
    "    score = ((np.array(cont) * pesos).sum()/pmax).round(4)\n",
    "\n",
    "    return score"
   ]
  },
  {
   "cell_type": "code",
   "execution_count": null,
   "metadata": {
    "colab": {
     "base_uri": "https://localhost:8080/"
    },
    "executionInfo": {
     "elapsed": 615,
     "status": "ok",
     "timestamp": 1625007028848,
     "user": {
      "displayName": "Juliana Scudilio",
      "photoUrl": "",
      "userId": "13334520651508847277"
     },
     "user_tz": 180
    },
    "id": "ailKxv6D18CY",
    "outputId": "097edbdd-30a4-41aa-fe2f-42989cf15b3c"
   },
   "outputs": [],
   "source": [
    "MatchCV('Igor.pdf', vagas[2])"
   ]
  },
  {
   "cell_type": "code",
   "execution_count": null,
   "metadata": {
    "executionInfo": {
     "elapsed": 243,
     "status": "ok",
     "timestamp": 1625007086166,
     "user": {
      "displayName": "Juliana Scudilio",
      "photoUrl": "",
      "userId": "13334520651508847277"
     },
     "user_tz": 180
    },
    "id": "duFp0R1D7cxX"
   },
   "outputs": [],
   "source": [
    "lista_de_vagas = vagas\n",
    "\n",
    "lista_de_cvs = ['Igor.pdf']\n"
   ]
  },
  {
   "cell_type": "code",
   "execution_count": null,
   "metadata": {
    "colab": {
     "base_uri": "https://localhost:8080/",
     "height": 254
    },
    "executionInfo": {
     "elapsed": 247,
     "status": "ok",
     "timestamp": 1625007090414,
     "user": {
      "displayName": "Juliana Scudilio",
      "photoUrl": "",
      "userId": "13334520651508847277"
     },
     "user_tz": 180
    },
    "id": "YP5gM02g1zMR",
    "outputId": "282b342e-a675-4761-8c00-5bb0821272fe"
   },
   "outputs": [],
   "source": [
    "lista_de_vagas[0]"
   ]
  },
  {
   "cell_type": "code",
   "execution_count": null,
   "metadata": {
    "colab": {
     "base_uri": "https://localhost:8080/"
    },
    "executionInfo": {
     "elapsed": 7407,
     "status": "ok",
     "timestamp": 1625007101786,
     "user": {
      "displayName": "Juliana Scudilio",
      "photoUrl": "",
      "userId": "13334520651508847277"
     },
     "user_tz": 180
    },
    "id": "INBRnL6MANzG",
    "outputId": "d88c93fb-64e2-4e33-9d39-c6a1f6b56d4e"
   },
   "outputs": [],
   "source": [
    "# Lista de Listas, cada lista interna é score de uma pessoa nas vagas\n",
    "pessoas = [[MatchCV(cv, vaga) for vaga in lista_de_vagas] for cv in lista_de_cvs]\n",
    "pessoas"
   ]
  },
  {
   "cell_type": "code",
   "execution_count": null,
   "metadata": {
    "executionInfo": {
     "elapsed": 239,
     "status": "ok",
     "timestamp": 1625007140220,
     "user": {
      "displayName": "Juliana Scudilio",
      "photoUrl": "",
      "userId": "13334520651508847277"
     },
     "user_tz": 180
    },
    "id": "g7uwbmTI_qgX"
   },
   "outputs": [],
   "source": [
    "# filtro para pegar apenas os nomes das pessoas na lista de caminhos\n",
    "nomes = [cv.split('/')[-1].split('.')[0] for cv in lista_de_cvs]"
   ]
  },
  {
   "cell_type": "code",
   "execution_count": null,
   "metadata": {
    "executionInfo": {
     "elapsed": 239,
     "status": "ok",
     "timestamp": 1625007170290,
     "user": {
      "displayName": "Juliana Scudilio",
      "photoUrl": "",
      "userId": "13334520651508847277"
     },
     "user_tz": 180
    },
    "id": "RV55FXfS0EKe"
   },
   "outputs": [],
   "source": [
    "# Conjunto de dados comos matches das pessoas com as vagas\n",
    "matchs = pd.DataFrame(pessoas, columns = nome_vagas, index = nomes)"
   ]
  },
  {
   "cell_type": "code",
   "execution_count": null,
   "metadata": {
    "colab": {
     "base_uri": "https://localhost:8080/",
     "height": 225
    },
    "executionInfo": {
     "elapsed": 264,
     "status": "ok",
     "timestamp": 1625007175973,
     "user": {
      "displayName": "Juliana Scudilio",
      "photoUrl": "",
      "userId": "13334520651508847277"
     },
     "user_tz": 180
    },
    "id": "mc6BqKTlnRMG",
    "outputId": "6d8bd65d-b29b-4061-8d55-503748cb50a0"
   },
   "outputs": [],
   "source": [
    "matchs.sort_values(by = 'eng_dados', ascending = False)"
   ]
  },
  {
   "cell_type": "code",
   "execution_count": null,
   "metadata": {},
   "outputs": [],
   "source": []
  }
 ],
 "metadata": {
  "colab": {
   "name": "Match de CVs.ipynb",
   "provenance": []
  },
  "kernelspec": {
   "display_name": "Python 3 (ipykernel)",
   "language": "python",
   "name": "python3"
  },
  "language_info": {
   "codemirror_mode": {
    "name": "ipython",
    "version": 3
   },
   "file_extension": ".py",
   "mimetype": "text/x-python",
   "name": "python",
   "nbconvert_exporter": "python",
   "pygments_lexer": "ipython3",
   "version": "3.9.7"
  }
 },
 "nbformat": 4,
 "nbformat_minor": 1
}
